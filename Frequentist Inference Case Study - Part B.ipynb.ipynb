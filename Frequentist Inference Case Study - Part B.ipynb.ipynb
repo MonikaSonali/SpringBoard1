{
 "cells": [
  {
   "cell_type": "markdown",
   "metadata": {},
   "source": [
    "# Frequentist Inference Case Study - Part B"
   ]
  },
  {
   "cell_type": "markdown",
   "metadata": {},
   "source": [
    "## Learning objectives"
   ]
  },
  {
   "cell_type": "markdown",
   "metadata": {},
   "source": [
    "Welcome to Part B of the Frequentist inference case study! The purpose of this case study is to help you apply the concepts associated with Frequentist inference in Python. In particular, you'll practice writing Python code to apply the following statistical concepts: \n",
    "* the _z_-statistic\n",
    "* the _t_-statistic\n",
    "* the difference and relationship between the two\n",
    "* the Central Limit Theorem, including its assumptions and consequences\n",
    "* how to estimate the population mean and standard deviation from a sample\n",
    "* the concept of a sampling distribution of a test statistic, particularly for the mean\n",
    "* how to combine these concepts to calculate a confidence interval"
   ]
  },
  {
   "cell_type": "markdown",
   "metadata": {},
   "source": [
    "In the previous notebook, we used only data from a known normal distribution. **You'll now tackle real data, rather than simulated data, and answer some relevant real-world business problems using the data.**"
   ]
  },
  {
   "cell_type": "markdown",
   "metadata": {},
   "source": [
    "## Hospital medical charges"
   ]
  },
  {
   "cell_type": "markdown",
   "metadata": {},
   "source": [
    "Imagine that a hospital has hired you as their data scientist. An administrator is working on the hospital's business operations plan and needs you to help them answer some business questions. \n",
    "\n",
    "In this assignment notebook, you're going to use frequentist statistical inference on a data sample to answer the questions:\n",
    "* has the hospital's revenue stream fallen below a key threshold?\n",
    "* are patients with insurance really charged different amounts than those without?\n",
    "\n",
    "Answering that last question with a frequentist approach makes some assumptions, and requires some knowledge, about the two groups."
   ]
  },
  {
   "cell_type": "markdown",
   "metadata": {},
   "source": [
    "We are going to use some data on medical charges obtained from [Kaggle](https://www.kaggle.com/easonlai/sample-insurance-claim-prediction-dataset). \n",
    "\n",
    "For the purposes of this exercise, assume the observations are the result of random sampling from our single hospital. Recall that in the previous assignment, we introduced the Central Limit Theorem (CLT), and its consequence that the distributions of sample statistics approach a normal distribution as $n$ increases. The amazing thing about this is that it applies to the sampling distributions of statistics that have been calculated from even highly non-normal distributions of data! Recall, also, that hypothesis testing is very much based on making inferences about such sample statistics. You're going to rely heavily on the CLT to apply frequentist (parametric) tests to answer the questions in this notebook."
   ]
  },
  {
   "cell_type": "code",
   "execution_count": 1,
   "metadata": {},
   "outputs": [],
   "source": [
    "import pandas as pd\n",
    "import numpy as np\n",
    "import matplotlib.pyplot as plt\n",
    "from scipy.stats import t ,norm, ttest_ind\n",
    "from numpy.random import seed"
   ]
  },
  {
   "cell_type": "code",
   "execution_count": 2,
   "metadata": {},
   "outputs": [],
   "source": [
    "import os\n",
    "path=\"D:\\SPRINGBOARD_1\\_Unit_11\\Frequency Case Study\\Frequentist Case Study\"\n",
    "medical = pd.read_csv(os.path.join(path,r'insurance2.csv'))"
   ]
  },
  {
   "cell_type": "code",
   "execution_count": 3,
   "metadata": {},
   "outputs": [
    {
     "data": {
      "text/plain": [
       "(1338, 8)"
      ]
     },
     "execution_count": 3,
     "metadata": {},
     "output_type": "execute_result"
    }
   ],
   "source": [
    "medical.shape"
   ]
  },
  {
   "cell_type": "code",
   "execution_count": 4,
   "metadata": {},
   "outputs": [
    {
     "data": {
      "text/html": [
       "<div>\n",
       "<style scoped>\n",
       "    .dataframe tbody tr th:only-of-type {\n",
       "        vertical-align: middle;\n",
       "    }\n",
       "\n",
       "    .dataframe tbody tr th {\n",
       "        vertical-align: top;\n",
       "    }\n",
       "\n",
       "    .dataframe thead th {\n",
       "        text-align: right;\n",
       "    }\n",
       "</style>\n",
       "<table border=\"1\" class=\"dataframe\">\n",
       "  <thead>\n",
       "    <tr style=\"text-align: right;\">\n",
       "      <th></th>\n",
       "      <th>age</th>\n",
       "      <th>sex</th>\n",
       "      <th>bmi</th>\n",
       "      <th>children</th>\n",
       "      <th>smoker</th>\n",
       "      <th>region</th>\n",
       "      <th>charges</th>\n",
       "      <th>insuranceclaim</th>\n",
       "    </tr>\n",
       "  </thead>\n",
       "  <tbody>\n",
       "    <tr>\n",
       "      <th>0</th>\n",
       "      <td>19</td>\n",
       "      <td>0</td>\n",
       "      <td>27.900</td>\n",
       "      <td>0</td>\n",
       "      <td>1</td>\n",
       "      <td>3</td>\n",
       "      <td>16884.92400</td>\n",
       "      <td>1</td>\n",
       "    </tr>\n",
       "    <tr>\n",
       "      <th>1</th>\n",
       "      <td>18</td>\n",
       "      <td>1</td>\n",
       "      <td>33.770</td>\n",
       "      <td>1</td>\n",
       "      <td>0</td>\n",
       "      <td>2</td>\n",
       "      <td>1725.55230</td>\n",
       "      <td>1</td>\n",
       "    </tr>\n",
       "    <tr>\n",
       "      <th>2</th>\n",
       "      <td>28</td>\n",
       "      <td>1</td>\n",
       "      <td>33.000</td>\n",
       "      <td>3</td>\n",
       "      <td>0</td>\n",
       "      <td>2</td>\n",
       "      <td>4449.46200</td>\n",
       "      <td>0</td>\n",
       "    </tr>\n",
       "    <tr>\n",
       "      <th>3</th>\n",
       "      <td>33</td>\n",
       "      <td>1</td>\n",
       "      <td>22.705</td>\n",
       "      <td>0</td>\n",
       "      <td>0</td>\n",
       "      <td>1</td>\n",
       "      <td>21984.47061</td>\n",
       "      <td>0</td>\n",
       "    </tr>\n",
       "    <tr>\n",
       "      <th>4</th>\n",
       "      <td>32</td>\n",
       "      <td>1</td>\n",
       "      <td>28.880</td>\n",
       "      <td>0</td>\n",
       "      <td>0</td>\n",
       "      <td>1</td>\n",
       "      <td>3866.85520</td>\n",
       "      <td>1</td>\n",
       "    </tr>\n",
       "  </tbody>\n",
       "</table>\n",
       "</div>"
      ],
      "text/plain": [
       "   age  sex     bmi  children  smoker  region      charges  insuranceclaim\n",
       "0   19    0  27.900         0       1       3  16884.92400               1\n",
       "1   18    1  33.770         1       0       2   1725.55230               1\n",
       "2   28    1  33.000         3       0       2   4449.46200               0\n",
       "3   33    1  22.705         0       0       1  21984.47061               0\n",
       "4   32    1  28.880         0       0       1   3866.85520               1"
      ]
     },
     "execution_count": 4,
     "metadata": {},
     "output_type": "execute_result"
    }
   ],
   "source": [
    "medical.head()"
   ]
  },
  {
   "cell_type": "code",
   "execution_count": 5,
   "metadata": {},
   "outputs": [
    {
     "name": "stdout",
     "output_type": "stream",
     "text": [
      "[1 0]\n"
     ]
    },
    {
     "data": {
      "text/plain": [
       "age                 int64\n",
       "sex                 int64\n",
       "bmi               float64\n",
       "children            int64\n",
       "smoker              int64\n",
       "region              int64\n",
       "charges           float64\n",
       "insuranceclaim      int64\n",
       "dtype: object"
      ]
     },
     "execution_count": 5,
     "metadata": {},
     "output_type": "execute_result"
    }
   ],
   "source": [
    "df=medical\n",
    "print(df['insuranceclaim'].unique())\n",
    "df.dtypes"
   ]
  },
  {
   "cell_type": "markdown",
   "metadata": {},
   "source": [
    "__Q1:__ Plot the histogram of charges and calculate the mean and standard deviation. Comment on the appropriateness of these statistics for the data."
   ]
  },
  {
   "cell_type": "markdown",
   "metadata": {},
   "source": [
    "__A:__"
   ]
  },
  {
   "cell_type": "code",
   "execution_count": 6,
   "metadata": {},
   "outputs": [
    {
     "name": "stdout",
     "output_type": "stream",
     "text": [
      "13270.422265141257 --- 12105.484975561612\n"
     ]
    },
    {
     "data": {
      "image/png": "[encoded data removed]",
      "text/plain": [
       "<Figure size 432x288 with 1 Axes>"
      ]
     },
     "metadata": {
      "needs_background": "light"
     },
     "output_type": "display_data"
    }
   ],
   "source": [
    "medical['charges'].hist()\n",
    "mean=medical['charges'].mean()\n",
    "# std1=medical['charges'].std()\n",
    "std=np.std(medical['charges'])\n",
    "print(mean,\"---\",std)\n",
    "# print(np.mean(medical['charges']),\"---\",np.std(medical['charges']))\n",
    "_ = plt.axvline(mean, color='r')\n",
    "_ = plt.axvline(mean+std, color='r', linestyle='--')\n",
    "_ = plt.axvline(mean-std, color='r', linestyle='--')"
   ]
  },
  {
   "cell_type": "markdown",
   "metadata": {},
   "source": [
    "##### Inference : \n",
    " - The standard deviation seems to be very large meaning that the charges are varying a lot\n",
    " - The charges do not follow a normal distribution - They are right skewed or Positively Skewed"
   ]
  },
  {
   "cell_type": "markdown",
   "metadata": {},
   "source": [
    "__Q2:__ The administrator is concerned that the actual average charge has fallen below 12,000, threatening the hospital's operational model. On the assumption that these data represent a random sample of charges, how would you justify that these data allow you to answer that question? And what would be the most appropriate frequentist test, of the ones discussed so far, to apply?"
   ]
  },
  {
   "cell_type": "markdown",
   "metadata": {},
   "source": [
    "__A:__"
   ]
  },
  {
   "cell_type": "markdown",
   "metadata": {},
   "source": [
    "Hypothesis Testing "
   ]
  },
  {
   "cell_type": "markdown",
   "metadata": {},
   "source": [
    "__Q3:__ Given the nature of the administrator's concern, what is the appropriate confidence interval in this case? A ***one-sided*** or ***two-sided*** interval? (Refresh your understanding of this concept on p. 399 of the *AoS*). Calculate the critical value and the relevant 95% confidence interval for the mean, and comment on whether the administrator should be concerned."
   ]
  },
  {
   "cell_type": "markdown",
   "metadata": {},
   "source": [
    "__A:__"
   ]
  },
  {
   "cell_type": "markdown",
   "metadata": {},
   "source": [
    "Since the administrator asserts that the average is below 12000 which is less than the calculated mean 13270 , \n",
    "we go for a **one-sided (left tailed) interval**\n",
    "\n",
    "Null Hypothesis : Ho=Mean = 13270 or Mean > 12000\n",
    "    \n",
    "Alternative Hypothesis : Ha=Mean < 12000    "
   ]
  },
  {
   "cell_type": "code",
   "execution_count": 7,
   "metadata": {},
   "outputs": [
    {
     "name": "stdout",
     "output_type": "stream",
     "text": [
      "Critical value of Z i.e. Zc = 0.45\n"
     ]
    }
   ],
   "source": [
    "alpha=0.05 # one-sided test\n",
    "Zc = 0.5 - alpha\n",
    "print(\"Critical value of Z i.e. Zc =\",Zc)"
   ]
  },
  {
   "cell_type": "code",
   "execution_count": 8,
   "metadata": {},
   "outputs": [
    {
     "name": "stdout",
     "output_type": "stream",
     "text": [
      "95% Confidence Interval is = [ 13799.932207390992 , 12740.912322891521 ]\n"
     ]
    }
   ],
   "source": [
    "# From Z score table , Zscore for the value 0.45 is 1.6 ; z-table reference - https://www.statisticshowto.com/tables/z-table/\n",
    "zscore=1.6\n",
    "Upper_CI =mean + (zscore * (std/np.sqrt(1338)))\n",
    "Lower_CI =mean - (zscore * (std/np.sqrt(1338)))\n",
    "print(\"95% Confidence Interval is = [\",Upper_CI,\",\",Lower_CI,\"]\")"
   ]
  },
  {
   "cell_type": "markdown",
   "metadata": {},
   "source": [
    "**Thus there is 95% probability that true mean of the population lies in this interval \n",
    "So the administrator doesnt have to be concerned that the average has gone down below 12000**"
   ]
  },
  {
   "cell_type": "markdown",
   "metadata": {},
   "source": [
    "The administrator then wants to know whether people with insurance really are charged a different amount to those without.\n",
    "\n",
    "__Q4:__ State the null and alternative hypothesis here. Use the _t_-test for the difference between means, where the pooled standard deviation of the two groups is given by:\n",
    "\\begin{equation}\n",
    "s_p = \\sqrt{\\frac{(n_0 - 1)s^2_0 + (n_1 - 1)s^2_1}{n_0 + n_1 - 2}}\n",
    "\\end{equation}\n",
    "\n",
    "and the *t*-test statistic is then given by:\n",
    "\n",
    "\\begin{equation}\n",
    "t = \\frac{\\bar{x}_0 - \\bar{x}_1}{s_p \\sqrt{1/n_0 + 1/n_1}}.\n",
    "\\end{equation}\n",
    "\n",
    "(If you need some reminding of the general definition of ***t-statistic***, check out the definition on p. 404 of *AoS*). \n",
    "\n",
    "What assumption about the variances of the two groups are we making here?"
   ]
  },
  {
   "cell_type": "markdown",
   "metadata": {},
   "source": [
    "__A:__"
   ]
  },
  {
   "cell_type": "raw",
   "metadata": {},
   "source": [
    "We are assuming that the variances of two groups are equal "
   ]
  },
  {
   "cell_type": "markdown",
   "metadata": {},
   "source": [
    "__Q5:__ Perform this hypothesis test both manually, using the above formulae, and then using the appropriate function from [scipy.stats](https://docs.scipy.org/doc/scipy/reference/stats.html#statistical-tests) (hint, you're looking for a function to perform a _t_-test on two independent samples). For the manual approach, calculate the value of the test statistic and then its probability (the p-value). Verify you get the same results from both."
   ]
  },
  {
   "cell_type": "markdown",
   "metadata": {},
   "source": [
    "__A:__ "
   ]
  },
  {
   "cell_type": "raw",
   "metadata": {},
   "source": [
    "Ho = The difference between the mean of insured charges and notinsured charges are not statistically significant -> Same means\n",
    "Ha =The difference are statistically significant -> Different means"
   ]
  },
  {
   "cell_type": "code",
   "execution_count": 9,
   "metadata": {},
   "outputs": [],
   "source": [
    "\n",
    "insured_new=df.loc[df['insuranceclaim'] == 1, 'charges'].values\n",
    "notinsured_new=df.loc[df['insuranceclaim'] == 0, 'charges'].values\n",
    "insured=insured_new\n",
    "notinsured=notinsured_new\n",
    "# print(insured)\n",
    "# print(notinsured)"
   ]
  },
  {
   "cell_type": "code",
   "execution_count": 10,
   "metadata": {},
   "outputs": [],
   "source": [
    "# insured=[]\n",
    "# insured.append(df.loc[df['insuranceclaim'] == 1, 'charges'])\n",
    "# notinsured=[]\n",
    "# notinsured.append(df['charges'][df['insuranceclaim']==0])\n",
    "# insured=np.array(insured)[0]\n",
    "# notinsured=np.array(notinsured)[0]\n",
    "# print(insured,\"-----\",notinsured)"
   ]
  },
  {
   "cell_type": "code",
   "execution_count": 11,
   "metadata": {},
   "outputs": [
    {
     "name": "stdout",
     "output_type": "stream",
     "text": [
      "783 --- 555\n",
      "Insured : Mean = 16423.928276537677 Std = 14036.956250260417\n",
      "NotInsured : Mean = 8821.421892306305 Std = 6440.699841605235\n"
     ]
    }
   ],
   "source": [
    "n0=df.loc[df['insuranceclaim'] == 1, 'charges'].count()\n",
    "n1=df.loc[df['insuranceclaim'] == 0, 'charges'].count()\n",
    "print(n0,\"---\",n1)\n",
    "x0=np.mean(insured)\n",
    "x1=np.mean(notinsured)\n",
    "s0=np.std(insured)\n",
    "s1=np.std(notinsured)\n",
    "print(\"Insured : Mean =\",x0,\"Std =\",s0)\n",
    "print(\"NotInsured : Mean =\",x1,\"Std =\",s1)"
   ]
  },
  {
   "cell_type": "markdown",
   "metadata": {},
   "source": [
    "\\begin{equation}\n",
    "s_p = \\sqrt{\\frac{(n_0 - 1)s^2_0 + (n_1 - 1)s^2_1}{n_0 + n_1 - 2}} ;   t = \\frac{\\bar{x}_0 - \\bar{x}_1}{s_p \\sqrt{1/n_0 + 1/n_1}}.\n",
    "\\end{equation} "
   ]
  },
  {
   "cell_type": "markdown",
   "metadata": {},
   "source": [
    "Calculated Results :"
   ]
  },
  {
   "cell_type": "code",
   "execution_count": 12,
   "metadata": {},
   "outputs": [
    {
     "name": "stdout",
     "output_type": "stream",
     "text": [
      "Calculated Pooled Variance = 11512.282899205748\n",
      "Calculated t-statistic = 11.901306943555388\n",
      "\n",
      " Degrees of Freedom = 1336\n"
     ]
    }
   ],
   "source": [
    "n=((n0-1)*(s0**2)) + ((n1-1)*(s1**2))\n",
    "d=n0+n1-2\n",
    "sp=np.sqrt(n/d)\n",
    "print(\"Calculated Pooled Variance =\",sp)\n",
    "t=(x0-x1)/(sp*np.sqrt((1/n0)+(1/n1)))\n",
    "print(\"Calculated t-statistic =\",t)\n",
    "print(\"\\n Degrees of Freedom =\",d)"
   ]
  },
  {
   "cell_type": "markdown",
   "metadata": {},
   "source": [
    "Library Results :"
   ]
  },
  {
   "cell_type": "code",
   "execution_count": 13,
   "metadata": {},
   "outputs": [
    {
     "name": "stdout",
     "output_type": "stream",
     "text": [
      "Ttest_indResult(statistic=11.893299030876712, pvalue=4.461230231620717e-31)\n"
     ]
    }
   ],
   "source": [
    "# rvs1 = norm.rvs(loc=16423.93,scale=14036.95,size=783)\n",
    "# rvs5 = norm.rvs(loc=8821.42,scale=6440.70,size=555)\n",
    "print(ttest_ind(insured_new, notinsured_new))"
   ]
  },
  {
   "cell_type": "markdown",
   "metadata": {},
   "source": [
    "Repeating the procedure with samples :"
   ]
  },
  {
   "cell_type": "code",
   "execution_count": 14,
   "metadata": {},
   "outputs": [
    {
     "name": "stdout",
     "output_type": "stream",
     "text": [
      "[34779.615   10231.4999   1149.3959   4889.0368  11093.6229  39774.2763\n",
      " 10226.2842  11938.25595  7050.0213   2404.7338 ] ---\n",
      " [ 7742.1098   6250.435    4934.705    6455.86265  5253.524   19933.458\n",
      " 23563.01618  6360.9936   2137.6536  11552.904  ]\n",
      "10 --- 10\n",
      "Insured : Mean = 13353.674204999998 Std = 12505.873686664736\n",
      "NotInsured : Mean = 9418.466183 Std = 6607.737982966311\n",
      "Calculated Pooled Variance = 10001.47683890607\n",
      "Calculated t-statistic = 0.8798093306145106\n",
      "\n",
      " Degrees of Freedom = 18\n",
      "\n",
      "From the t-table , considering the degrees of freedom of 18  and checking against the t-statistic of 0.8798093306145106 we find that the tail probability ,p-value is = ~0.40\n",
      "( p-value taken from table considering 2-tailed test since the hypothesis concerns the equality of the means and doest not state whether to be > or < than a particular value)\n"
     ]
    }
   ],
   "source": [
    "seed(47)\n",
    "sampleIns=np.random.choice(insured,10)\n",
    "sampleNotIns=np.random.choice(notinsured,10)\n",
    "print(sampleIns,\"---\\n\",sampleNotIns)\n",
    "n0=10\n",
    "n1=10\n",
    "print(n0,\"---\",n1)\n",
    "x0=np.mean(sampleIns)\n",
    "x1=np.mean(sampleNotIns)\n",
    "s0=np.std(sampleIns)\n",
    "s1=np.std(sampleNotIns)\n",
    "print(\"Insured : Mean =\",x0,\"Std =\",s0)\n",
    "print(\"NotInsured : Mean =\",x1,\"Std =\",s1)\n",
    "n=((n0-1)*(s0**2)) + ((n1-1)*(s1**2))\n",
    "d=n0+n1-2\n",
    "sp=np.sqrt(n/d)\n",
    "print(\"Calculated Pooled Variance =\",sp)\n",
    "t=(x0-x1)/(sp*np.sqrt((1/n0)+(1/n1)))\n",
    "print(\"Calculated t-statistic =\",t)\n",
    "print(\"\\n Degrees of Freedom =\",d)\n",
    "print(\"\\nFrom the t-table , considering the degrees of freedom of\",d,\" and checking against the t-statistic of\",t,\"we find that the tail probability ,p-value is = ~0.40\")\n",
    "print(\"( p-value taken from table considering 2-tailed test since the hypothesis concerns the equality of the means and doest not state whether to be > or < than a particular value)\")"
   ]
  },
  {
   "cell_type": "code",
   "execution_count": 15,
   "metadata": {},
   "outputs": [
    {
     "name": "stdout",
     "output_type": "stream",
     "text": [
      "Ttest_indResult(statistic=0.8346604174229887, pvalue=0.4148498177097526)\n"
     ]
    }
   ],
   "source": [
    "print(ttest_ind(sampleIns,sampleNotIns))"
   ]
  },
  {
   "cell_type": "markdown",
   "metadata": {},
   "source": [
    "Congratulations! Hopefully you got the exact same numerical results. This shows that you correctly calculated the numbers by hand. Secondly, you used the correct function and saw that it's much easier to use. All you need to do is pass your data to it."
   ]
  },
  {
   "cell_type": "markdown",
   "metadata": {},
   "source": [
    "__Q6:__ Conceptual question: look through the documentation for statistical test functions in scipy.stats. You'll see the above _t_-test for a sample, but can you see an equivalent one for performing a *z*-test from a sample? Comment on your answer."
   ]
  },
  {
   "cell_type": "markdown",
   "metadata": {},
   "source": [
    "__A:__\n",
    "Z-test can be used for sample sized > 30 and t-test is useful for samples with size < 30\n",
    "To perform z-test for 2 independent samples , we can use the following library function\n",
    "statsmodels.stats.weightstats.ztest(x1, x2=None, value=0, alternative='two-sided', usevar='pooled', ddof=1.0)"
   ]
  },
  {
   "cell_type": "markdown",
   "metadata": {},
   "source": [
    "## Learning outcomes"
   ]
  },
  {
   "cell_type": "markdown",
   "metadata": {},
   "source": [
    "Having completed this project notebook, you now have good hands-on experience:\n",
    "* using the central limit theorem to help you apply frequentist techniques to answer questions that pertain to very non-normally distributed data from the real world\n",
    "* performing inference using such data to answer business questions\n",
    "* forming a hypothesis and framing the null and alternative hypotheses\n",
    "* testing this using a _t_-test"
   ]
  }
 ],
 "metadata": {
  "kernelspec": {
   "display_name": "Python 3",
   "language": "python",
   "name": "python3"
  },
  "language_info": {
   "codemirror_mode": {
    "name": "ipython",
    "version": 3
   },
   "file_extension": ".py",
   "mimetype": "text/x-python",
   "name": "python",
   "nbconvert_exporter": "python",
   "pygments_lexer": "ipython3",
   "version": "3.8.5"
  }
 },
 "nbformat": 4,
 "nbformat_minor": 2
}
